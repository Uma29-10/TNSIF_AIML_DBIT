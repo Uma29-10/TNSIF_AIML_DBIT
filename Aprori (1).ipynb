{
  "nbformat": 4,
  "nbformat_minor": 0,
  "metadata": {
    "colab": {
      "provenance": []
    },
    "kernelspec": {
      "name": "python3",
      "display_name": "Python 3"
    },
    "language_info": {
      "name": "python"
    }
  },
  "cells": [
    {
      "cell_type": "code",
      "execution_count": 22,
      "metadata": {
        "id": "-Dh_MqKnbHYK"
      },
      "outputs": [],
      "source": [
        "import pandas as pd\n",
        "from mlxtend.preprocessing import TransactionEncoder\n",
        "from mlxtend.frequent_patterns import apriori, association_rules\n",
        "import warnings\n",
        "\n",
        "# Filter out DeprecationWarnings specifically from jupyter_client\n",
        "# warnings.filterwarnings(\"ignore\", category=DeprecationWarning, module=\"jupyter_client\")"
      ]
    },
    {
      "cell_type": "code",
      "source": [
        " #1: Define the dataset\n",
        "dataset = [\n",
        "    ['Coffee', 'Donut', 'Sandwich'],\n",
        "    ['Coffee', 'Donut'],\n",
        "    ['Coffee', 'Sandwich'],\n",
        "    ['Coffee', 'Muffin'],\n",
        "    ['Donut', 'Muffin']\n",
        "]\n",
        "print(\"Q1. Dataset Transactions:\\n\")\n",
        "for i, t in enumerate(dataset, start=1):\n",
        "    print(f\"Transaction {i}: {t}\")"
      ],
      "metadata": {
        "colab": {
          "base_uri": "https://localhost:8080/"
        },
        "id": "7XIVWOY-bRN8",
        "outputId": "305d7bcb-da1e-4636-9b87-b953ca4b8708"
      },
      "execution_count": 23,
      "outputs": [
        {
          "output_type": "stream",
          "name": "stdout",
          "text": [
            "Q1. Dataset Transactions:\n",
            "\n",
            "Transaction 1: ['Coffee', 'Donut', 'Sandwich']\n",
            "Transaction 2: ['Coffee', 'Donut']\n",
            "Transaction 3: ['Coffee', 'Sandwich']\n",
            "Transaction 4: ['Coffee', 'Muffin']\n",
            "Transaction 5: ['Donut', 'Muffin']\n"
          ]
        }
      ]
    },
    {
      "cell_type": "code",
      "source": [
        "#Q2: One-Hot Encode the dataset into DataFrame\n",
        "te = TransactionEncoder()\n",
        "te_array = te.fit(dataset).transform(dataset)\n",
        "df = pd.DataFrame(te_array, columns=te.columns_)\n",
        "\n",
        "print(\"\\n\\nQ2. One-Hot Encoded DataFrame:\\n\")\n",
        "print(df)\n",
        "print(\"\\n(Each row = transaction; Each column = item; True/False shows presence)\")"
      ],
      "metadata": {
        "colab": {
          "base_uri": "https://localhost:8080/"
        },
        "id": "noc9b2MPb303",
        "outputId": "dee4d7dd-2939-4ba0-d711-b423cea3e843"
      },
      "execution_count": 14,
      "outputs": [
        {
          "output_type": "stream",
          "name": "stdout",
          "text": [
            "\n",
            "\n",
            "Q2. One-Hot Encoded DataFrame:\n",
            "\n",
            "   Coffee  Donut  Muffin  Sandwich\n",
            "0    True   True   False      True\n",
            "1    True   True   False     False\n",
            "2    True  False   False      True\n",
            "3    True  False    True     False\n",
            "4   False   True    True     False\n",
            "\n",
            "(Each row = transaction; Each column = item; True/False shows presence)\n"
          ]
        }
      ]
    },
    {
      "cell_type": "code",
      "source": [
        "# Q3: Find frequent itemsets using Apriori (min_support = 0.4)\n",
        "frequent_itemsets = apriori(df, min_support=0.4, use_colnames=True)\n",
        "frequent_itemsets['support'] = frequent_itemsets['support'].round(2)\n",
        "\n",
        "print(\"\\n\\nQ3. Frequent Itemsets (min_support = 0.4):\\n\")\n",
        "print(frequent_itemsets)"
      ],
      "metadata": {
        "colab": {
          "base_uri": "https://localhost:8080/"
        },
        "id": "3N1Xqdykb-Xm",
        "outputId": "d73916ab-3fc3-4bd9-88aa-0589f7f32e4d"
      },
      "execution_count": 15,
      "outputs": [
        {
          "output_type": "stream",
          "name": "stdout",
          "text": [
            "\n",
            "\n",
            "Q3. Frequent Itemsets (min_support = 0.4):\n",
            "\n",
            "   support            itemsets\n",
            "0      0.8            (Coffee)\n",
            "1      0.6             (Donut)\n",
            "2      0.4            (Muffin)\n",
            "3      0.4          (Sandwich)\n",
            "4      0.4     (Coffee, Donut)\n",
            "5      0.4  (Coffee, Sandwich)\n"
          ]
        }
      ]
    },
    {
      "cell_type": "code",
      "source": [
        "# Q4: Generate all association rules from frequent itemsets\n",
        "rules = association_rules(frequent_itemsets, metric=\"confidence\", min_threshold=0.0)\n",
        "rules['support'] = rules['support'].round(2)\n",
        "rules['confidence'] = rules['confidence'].round(2)\n",
        "rules['lift'] = rules['lift'].round(2)\n",
        "\n",
        "print(\"\\n\\nQ4. All Association Rules:\\n\")\n",
        "print(rules[['antecedents','consequents','support','confidence','lift']])"
      ],
      "metadata": {
        "colab": {
          "base_uri": "https://localhost:8080/"
        },
        "id": "faQxSACncDYN",
        "outputId": "4c63935b-b427-4a9b-d170-47f85a8ec262"
      },
      "execution_count": 16,
      "outputs": [
        {
          "output_type": "stream",
          "name": "stdout",
          "text": [
            "\n",
            "\n",
            "Q4. All Association Rules:\n",
            "\n",
            "  antecedents consequents  support  confidence  lift\n",
            "0    (Coffee)     (Donut)      0.4        0.50  0.83\n",
            "1     (Donut)    (Coffee)      0.4        0.67  0.83\n",
            "2    (Coffee)  (Sandwich)      0.4        0.50  1.25\n",
            "3  (Sandwich)    (Coffee)      0.4        1.00  1.25\n"
          ]
        }
      ]
    },
    {
      "cell_type": "code",
      "source": [
        "# Q5: Filter rules with support >= 0.4 and confidence >= 0.6\n",
        "strong_rules = rules[(rules['support']>=0.4) & (rules['confidence']>=0.6)]\n",
        "print(\"\\n\\nQ5. Strong Rules (support >= 0.4 and confidence >= 0.6):\\n\")\n",
        "print(strong_rules[['antecedents','consequents','support','confidence','lift']])"
      ],
      "metadata": {
        "colab": {
          "base_uri": "https://localhost:8080/"
        },
        "id": "WIIs6kOfchMd",
        "outputId": "ea4026c8-4929-4713-d2d4-c6cf5c974ebf"
      },
      "execution_count": 17,
      "outputs": [
        {
          "output_type": "stream",
          "name": "stdout",
          "text": [
            "\n",
            "\n",
            "Q5. Strong Rules (support >= 0.4 and confidence >= 0.6):\n",
            "\n",
            "  antecedents consequents  support  confidence  lift\n",
            "1     (Donut)    (Coffee)      0.4        0.67  0.83\n",
            "3  (Sandwich)    (Coffee)      0.4        1.00  1.25\n"
          ]
        }
      ]
    },
    {
      "cell_type": "code",
      "source": [
        " #Q6: Interpret one strong rule in words\n",
        "if not strong_rules.empty:\n",
        "    rule = strong_rules.iloc[0]\n",
        "    ant = list(rule['antecedents'])\n",
        "    cons = list(rule['consequents'])\n",
        "    print(f\"\\n\\nQ6. Interpretation of one strong rule:\\n\")\n",
        "    print(f\"If a customer buys {ant}, they are likely to buy {cons} \"\n",
        "          f\"with confidence {rule['confidence']} and lift {rule['lift']}.\")\n",
        "else:\n",
        "    print(\"\\n\\nQ6. No strong rules found with given thresholds.\")"
      ],
      "metadata": {
        "colab": {
          "base_uri": "https://localhost:8080/"
        },
        "id": "0I7OqrQEcoCJ",
        "outputId": "34858244-4c05-47ee-f963-eb9135d51692"
      },
      "execution_count": 18,
      "outputs": [
        {
          "output_type": "stream",
          "name": "stdout",
          "text": [
            "\n",
            "\n",
            "Q6. Interpretation of one strong rule:\n",
            "\n",
            "If a customer buys ['Donut'], they are likely to buy ['Coffee'] with confidence 0.67 and lift 0.83.\n"
          ]
        }
      ]
    },
    {
      "cell_type": "code",
      "source": [
        "# Q7: Effect of changing min_support and min_confidence\n",
        "print(\"\\n\\nQ7. Effect of changing thresholds:\")\n",
        "for sup in [0.2, 0.4, 0.6]:\n",
        "    fi = apriori(df, min_support=sup, use_colnames=True)\n",
        "    rules_temp = association_rules(fi, metric=\"confidence\", min_threshold=0.5)\n",
        "    print(f\"min_support={sup}: {len(fi)} frequent itemsets, {len(rules_temp)} rules\")\n",
        "\n",
        "print(\"As min_support increases, fewer itemsets pass the threshold → fewer rules.\")\n",
        "print(\"As min_confidence increases, fewer rules are considered strong.\")"
      ],
      "metadata": {
        "colab": {
          "base_uri": "https://localhost:8080/"
        },
        "id": "x7VKN8qYcrDX",
        "outputId": "3611a894-b299-4ba4-ccf1-fdeea9089291"
      },
      "execution_count": 20,
      "outputs": [
        {
          "output_type": "stream",
          "name": "stdout",
          "text": [
            "\n",
            "\n",
            "Q7. Effect of changing thresholds:\n",
            "min_support=0.2: 10 frequent itemsets, 11 rules\n",
            "min_support=0.4: 6 frequent itemsets, 4 rules\n",
            "min_support=0.6: 2 frequent itemsets, 0 rules\n",
            "As min_support increases, fewer itemsets pass the threshold → fewer rules.\n",
            "As min_confidence increases, fewer rules are considered strong.\n"
          ]
        }
      ]
    },
    {
      "cell_type": "code",
      "source": [
        "# Q8: Why Lift > 1 indicates good association\n",
        "print(\"\\n\\nQ8. Why Lift > 1 means a good rule:\")\n",
        "print(\"Lift = P(A and B) / (P(A)*P(B)).\")\n",
        "print(\"If Lift > 1, A and B occur together more often than expected by chance,\")\n",
        "print(\"which means a positive association between them.\")"
      ],
      "metadata": {
        "colab": {
          "base_uri": "https://localhost:8080/"
        },
        "id": "3bMEhoLCcv4q",
        "outputId": "f63791ee-1fb8-4e30-9977-3b2132d14a77"
      },
      "execution_count": 21,
      "outputs": [
        {
          "output_type": "stream",
          "name": "stdout",
          "text": [
            "\n",
            "\n",
            "Q8. Why Lift > 1 means a good rule:\n",
            "Lift = P(A and B) / (P(A)*P(B)).\n",
            "If Lift > 1, A and B occur together more often than expected by chance,\n",
            "which means a positive association between them.\n"
          ]
        }
      ]
    }
  ]
}