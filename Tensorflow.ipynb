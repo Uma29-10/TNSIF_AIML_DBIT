{
  "nbformat": 4,
  "nbformat_minor": 0,
  "metadata": {
    "colab": {
      "provenance": [],
      "authorship_tag": "ABX9TyMd4j4GSaSGVPnp50T/oswq",
      "include_colab_link": true
    },
    "kernelspec": {
      "name": "python3",
      "display_name": "Python 3"
    },
    "language_info": {
      "name": "python"
    }
  },
  "cells": [
    {
      "cell_type": "markdown",
      "metadata": {
        "id": "view-in-github",
        "colab_type": "text"
      },
      "source": [
        "<a href=\"https://colab.research.google.com/github/Uma29-10/TNSIF_AIML_DBIT/blob/main/Tensorflow.ipynb\" target=\"_parent\"><img src=\"https://colab.research.google.com/assets/colab-badge.svg\" alt=\"Open In Colab\"/></a>"
      ]
    },
    {
      "cell_type": "code",
      "execution_count": null,
      "metadata": {
        "colab": {
          "base_uri": "https://localhost:8080/"
        },
        "id": "gzQS5PDMHgya",
        "outputId": "e15dd772-4b10-4ff3-fae1-35ae002a0b87"
      },
      "outputs": [
        {
          "output_type": "stream",
          "name": "stdout",
          "text": [
            "TensorFlow version: 2.19.0\n"
          ]
        }
      ],
      "source": [
        "# Cell 0 (optional): install/verify TensorFlow in Colab (usually preinstalled)\n",
        "# !pip install -q tensorflow\n",
        "import tensorflow as tf\n",
        "from tensorflow import keras\n",
        "import numpy as np\n",
        "import matplotlib.pyplot as plt\n",
        "tf.random.set_seed(42)\n",
        "print(\"TensorFlow version:\", tf.__version__)\n"
      ]
    },
    {
      "cell_type": "code",
      "source": [
        "# Cell 1: Step 1 - Load and Explore the Dataset\n",
        "# 1. Load MNIST\n",
        "(x_train, y_train), (x_test, y_test) = keras.datasets.mnist.load_data()\n",
        "\n",
        "# 2. Print shapes\n",
        "print(\"x_train shape:\", x_train.shape)   # expected (60000, 28, 28)\n",
        "print(\"y_train shape:\", y_train.shape)   # expected (60000,)\n",
        "print(\"x_test shape: \", x_test.shape)    # expected (10000, 28, 28)\n",
        "print(\"y_test shape: \", y_test.shape)    # expected (10000,)\n",
        "\n",
        "# 3. Display the first image from x_train\n",
        "plt.figure(figsize=(3,3))\n",
        "plt.imshow(x_train[0], cmap='gray')\n",
        "plt.axis('off')\n",
        "plt.title(\"First image in x_train (index 0)\")\n",
        "plt.show()\n",
        "\n",
        "# 4. Print the label of the first image\n",
        "print(\"Label of first image (y_train[0]):\", y_train[0])\n"
      ],
      "metadata": {
        "colab": {
          "base_uri": "https://localhost:8080/",
          "height": 411
        },
        "id": "XNyzRjIyHpkA",
        "outputId": "a55042ef-dcd2-4813-a933-21ca9bd05720"
      },
      "execution_count": null,
      "outputs": [
        {
          "output_type": "stream",
          "name": "stdout",
          "text": [
            "Downloading data from https://storage.googleapis.com/tensorflow/tf-keras-datasets/mnist.npz\n",
            "\u001b[1m11490434/11490434\u001b[0m \u001b[32m━━━━━━━━━━━━━━━━━━━━\u001b[0m\u001b[37m\u001b[0m \u001b[1m0s\u001b[0m 0us/step\n",
            "x_train shape: (60000, 28, 28)\n",
            "y_train shape: (60000,)\n",
            "x_test shape:  (10000, 28, 28)\n",
            "y_test shape:  (10000,)\n"
          ]
        },
        {
          "output_type": "display_data",
          "data": {
            "text/plain": [
              "<Figure size 300x300 with 1 Axes>"
            ],
            "image/png": "[encoded data removed]"
          },
          "metadata": {}
        },
        {
          "output_type": "stream",
          "name": "stdout",
          "text": [
            "Label of first image (y_train[0]): 5\n"
          ]
        }
      ]
    },
    {
      "cell_type": "code",
      "source": [
        "# Cell 2: Step 2 - Normalize the Data\n",
        "# 5. Normalize by dividing by 255 (create normalized copies)\n",
        "x_train_norm = x_train.astype('float32') / 255.0\n",
        "x_test_norm  = x_test.astype('float32')  / 255.0\n",
        "\n",
        "# 6. Print first image's pixel values before and after normalization (showing a small patch)\n",
        "print(\"Before normalization (top-left 5x5) - integers 0..255:\")\n",
        "print(x_train[0][:5, :5])\n",
        "\n",
        "print(\"\\nAfter normalization (top-left 5x5) - floats 0..1:\")\n",
        "print(np.round(x_train_norm[0][:5, :5], 4))\n"
      ],
      "metadata": {
        "colab": {
          "base_uri": "https://localhost:8080/"
        },
        "id": "bO8d8icGIRQN",
        "outputId": "33692252-e3d4-4cac-8d3b-7b7eba3ecec8"
      },
      "execution_count": null,
      "outputs": [
        {
          "output_type": "stream",
          "name": "stdout",
          "text": [
            "Before normalization (top-left 5x5) - integers 0..255:\n",
            "[[0 0 0 0 0]\n",
            " [0 0 0 0 0]\n",
            " [0 0 0 0 0]\n",
            " [0 0 0 0 0]\n",
            " [0 0 0 0 0]]\n",
            "\n",
            "After normalization (top-left 5x5) - floats 0..1:\n",
            "[[0. 0. 0. 0. 0.]\n",
            " [0. 0. 0. 0. 0.]\n",
            " [0. 0. 0. 0. 0.]\n",
            " [0. 0. 0. 0. 0.]\n",
            " [0. 0. 0. 0. 0.]]\n"
          ]
        }
      ]
    },
    {
      "cell_type": "code",
      "source": [
        "# Cell 3: Step 3 - Build the Model\n",
        "from tensorflow.keras import layers, models\n",
        "\n",
        "# 7-11. Create Sequential model exactly as requested\n",
        "model = models.Sequential([\n",
        "    layers.Flatten(input_shape=(28,28)),                 # Step 8\n",
        "    layers.Dense(128, activation='relu'),                # Step 9\n",
        "    layers.Dense(64, activation='relu'),                 # Step 10\n",
        "    layers.Dense(10, activation='softmax')               # Step 11 (output)\n",
        "])\n",
        "\n",
        "# 12. Print the model summary\n",
        "model.summary()\n"
      ],
      "metadata": {
        "colab": {
          "base_uri": "https://localhost:8080/",
          "height": 312
        },
        "id": "BfE4GJ8ZIWN2",
        "outputId": "1a362e39-f6e6-48e8-a464-68a7515809dd"
      },
      "execution_count": null,
      "outputs": [
        {
          "output_type": "stream",
          "name": "stderr",
          "text": [
            "/usr/local/lib/python3.12/dist-packages/keras/src/layers/reshaping/flatten.py:37: UserWarning: Do not pass an `input_shape`/`input_dim` argument to a layer. When using Sequential models, prefer using an `Input(shape)` object as the first layer in the model instead.\n",
            "  super().__init__(**kwargs)\n"
          ]
        },
        {
          "output_type": "display_data",
          "data": {
            "text/plain": [
              "\u001b[1mModel: \"sequential\"\u001b[0m\n"
            ],
            "text/html": [
              "<pre style=\"white-space:pre;overflow-x:auto;line-height:normal;font-family:Menlo,'DejaVu Sans Mono',consolas,'Courier New',monospace\"><span style=\"font-weight: bold\">Model: \"sequential\"</span>\n",
              "</pre>\n"
            ]
          },
          "metadata": {}
        },
        {
          "output_type": "display_data",
          "data": {
            "text/plain": [
              "┏━━━━━━━━━━━━━━━━━━━━━━━━━━━━━━━━━┳━━━━━━━━━━━━━━━━━━━━━━━━┳━━━━━━━━━━━━━━━┓\n",
              "┃\u001b[1m \u001b[0m\u001b[1mLayer (type)                   \u001b[0m\u001b[1m \u001b[0m┃\u001b[1m \u001b[0m\u001b[1mOutput Shape          \u001b[0m\u001b[1m \u001b[0m┃\u001b[1m \u001b[0m\u001b[1m      Param #\u001b[0m\u001b[1m \u001b[0m┃\n",
              "┡━━━━━━━━━━━━━━━━━━━━━━━━━━━━━━━━━╇━━━━━━━━━━━━━━━━━━━━━━━━╇━━━━━━━━━━━━━━━┩\n",
              "│ flatten (\u001b[38;5;33mFlatten\u001b[0m)               │ (\u001b[38;5;45mNone\u001b[0m, \u001b[38;5;34m784\u001b[0m)            │             \u001b[38;5;34m0\u001b[0m │\n",
              "├─────────────────────────────────┼────────────────────────┼───────────────┤\n",
              "│ dense (\u001b[38;5;33mDense\u001b[0m)                   │ (\u001b[38;5;45mNone\u001b[0m, \u001b[38;5;34m128\u001b[0m)            │       \u001b[38;5;34m100,480\u001b[0m │\n",
              "├─────────────────────────────────┼────────────────────────┼───────────────┤\n",
              "│ dense_1 (\u001b[38;5;33mDense\u001b[0m)                 │ (\u001b[38;5;45mNone\u001b[0m, \u001b[38;5;34m64\u001b[0m)             │         \u001b[38;5;34m8,256\u001b[0m │\n",
              "├─────────────────────────────────┼────────────────────────┼───────────────┤\n",
              "│ dense_2 (\u001b[38;5;33mDense\u001b[0m)                 │ (\u001b[38;5;45mNone\u001b[0m, \u001b[38;5;34m10\u001b[0m)             │           \u001b[38;5;34m650\u001b[0m │\n",
              "└─────────────────────────────────┴────────────────────────┴───────────────┘\n"
            ],
            "text/html": [
              "<pre style=\"white-space:pre;overflow-x:auto;line-height:normal;font-family:Menlo,'DejaVu Sans Mono',consolas,'Courier New',monospace\">┏━━━━━━━━━━━━━━━━━━━━━━━━━━━━━━━━━┳━━━━━━━━━━━━━━━━━━━━━━━━┳━━━━━━━━━━━━━━━┓\n",
              "┃<span style=\"font-weight: bold\"> Layer (type)                    </span>┃<span style=\"font-weight: bold\"> Output Shape           </span>┃<span style=\"font-weight: bold\">       Param # </span>┃\n",
              "┡━━━━━━━━━━━━━━━━━━━━━━━━━━━━━━━━━╇━━━━━━━━━━━━━━━━━━━━━━━━╇━━━━━━━━━━━━━━━┩\n",
              "│ flatten (<span style=\"color: #0087ff; text-decoration-color: #0087ff\">Flatten</span>)               │ (<span style=\"color: #00d7ff; text-decoration-color: #00d7ff\">None</span>, <span style=\"color: #00af00; text-decoration-color: #00af00\">784</span>)            │             <span style=\"color: #00af00; text-decoration-color: #00af00\">0</span> │\n",
              "├─────────────────────────────────┼────────────────────────┼───────────────┤\n",
              "│ dense (<span style=\"color: #0087ff; text-decoration-color: #0087ff\">Dense</span>)                   │ (<span style=\"color: #00d7ff; text-decoration-color: #00d7ff\">None</span>, <span style=\"color: #00af00; text-decoration-color: #00af00\">128</span>)            │       <span style=\"color: #00af00; text-decoration-color: #00af00\">100,480</span> │\n",
              "├─────────────────────────────────┼────────────────────────┼───────────────┤\n",
              "│ dense_1 (<span style=\"color: #0087ff; text-decoration-color: #0087ff\">Dense</span>)                 │ (<span style=\"color: #00d7ff; text-decoration-color: #00d7ff\">None</span>, <span style=\"color: #00af00; text-decoration-color: #00af00\">64</span>)             │         <span style=\"color: #00af00; text-decoration-color: #00af00\">8,256</span> │\n",
              "├─────────────────────────────────┼────────────────────────┼───────────────┤\n",
              "│ dense_2 (<span style=\"color: #0087ff; text-decoration-color: #0087ff\">Dense</span>)                 │ (<span style=\"color: #00d7ff; text-decoration-color: #00d7ff\">None</span>, <span style=\"color: #00af00; text-decoration-color: #00af00\">10</span>)             │           <span style=\"color: #00af00; text-decoration-color: #00af00\">650</span> │\n",
              "└─────────────────────────────────┴────────────────────────┴───────────────┘\n",
              "</pre>\n"
            ]
          },
          "metadata": {}
        },
        {
          "output_type": "display_data",
          "data": {
            "text/plain": [
              "\u001b[1m Total params: \u001b[0m\u001b[38;5;34m109,386\u001b[0m (427.29 KB)\n"
            ],
            "text/html": [
              "<pre style=\"white-space:pre;overflow-x:auto;line-height:normal;font-family:Menlo,'DejaVu Sans Mono',consolas,'Courier New',monospace\"><span style=\"font-weight: bold\"> Total params: </span><span style=\"color: #00af00; text-decoration-color: #00af00\">109,386</span> (427.29 KB)\n",
              "</pre>\n"
            ]
          },
          "metadata": {}
        },
        {
          "output_type": "display_data",
          "data": {
            "text/plain": [
              "\u001b[1m Trainable params: \u001b[0m\u001b[38;5;34m109,386\u001b[0m (427.29 KB)\n"
            ],
            "text/html": [
              "<pre style=\"white-space:pre;overflow-x:auto;line-height:normal;font-family:Menlo,'DejaVu Sans Mono',consolas,'Courier New',monospace\"><span style=\"font-weight: bold\"> Trainable params: </span><span style=\"color: #00af00; text-decoration-color: #00af00\">109,386</span> (427.29 KB)\n",
              "</pre>\n"
            ]
          },
          "metadata": {}
        },
        {
          "output_type": "display_data",
          "data": {
            "text/plain": [
              "\u001b[1m Non-trainable params: \u001b[0m\u001b[38;5;34m0\u001b[0m (0.00 B)\n"
            ],
            "text/html": [
              "<pre style=\"white-space:pre;overflow-x:auto;line-height:normal;font-family:Menlo,'DejaVu Sans Mono',consolas,'Courier New',monospace\"><span style=\"font-weight: bold\"> Non-trainable params: </span><span style=\"color: #00af00; text-decoration-color: #00af00\">0</span> (0.00 B)\n",
              "</pre>\n"
            ]
          },
          "metadata": {}
        }
      ]
    },
    {
      "cell_type": "code",
      "source": [
        "# Cell 4: Step 4 - Compile the Model\n",
        "# 13. Compile with requested settings\n",
        "model.compile(optimizer='adam',\n",
        "              loss='sparse_categorical_crossentropy',\n",
        "              metrics=['accuracy'])\n",
        "\n",
        "# 14. One-line explanations:\n",
        "print(\"optimizer = 'adam' -> algorithm that updates model weights during training (adaptive learning rates).\")\n",
        "print(\"loss = 'sparse_categorical_crossentropy' -> objective function measuring difference between predicted probs and integer labels.\")\n",
        "print(\"metrics = ['accuracy'] -> evaluated during training/eval to show proportion of correct predictions.\")\n"
      ],
      "metadata": {
        "colab": {
          "base_uri": "https://localhost:8080/"
        },
        "id": "L9-i2bQrIZe7",
        "outputId": "202535c4-4d1f-46b4-a534-b688998e515e"
      },
      "execution_count": null,
      "outputs": [
        {
          "output_type": "stream",
          "name": "stdout",
          "text": [
            "optimizer = 'adam' -> algorithm that updates model weights during training (adaptive learning rates).\n",
            "loss = 'sparse_categorical_crossentropy' -> objective function measuring difference between predicted probs and integer labels.\n",
            "metrics = ['accuracy'] -> evaluated during training/eval to show proportion of correct predictions.\n"
          ]
        }
      ]
    },
    {
      "cell_type": "code",
      "source": [
        "# Step 5 (Simpler version): fresh training for 10 epochs\n",
        "model_10 = models.Sequential([\n",
        "    layers.Flatten(input_shape=(28,28)),\n",
        "    layers.Dense(128, activation='relu'),\n",
        "    layers.Dense(64, activation='relu'),\n",
        "    layers.Dense(10, activation='softmax')\n",
        "])\n",
        "\n",
        "model_10.compile(optimizer='adam',\n",
        "                 loss='sparse_categorical_crossentropy',\n",
        "                 metrics=['accuracy'])\n",
        "\n",
        "history_10 = model_10.fit(x_train_norm, y_train, epochs=10, batch_size=128, validation_split=0.1)\n",
        "\n",
        "print(f\"\\nTraining accuracy after last epoch (10 epochs): {history_10.history['accuracy'][-1]:.4f}\")\n"
      ],
      "metadata": {
        "colab": {
          "base_uri": "https://localhost:8080/"
        },
        "id": "HwrluOGBIZih",
        "outputId": "1daa9b22-fcb5-44e3-9694-6e5607c6d9ab"
      },
      "execution_count": null,
      "outputs": [
        {
          "output_type": "stream",
          "name": "stderr",
          "text": [
            "/usr/local/lib/python3.12/dist-packages/keras/src/layers/reshaping/flatten.py:37: UserWarning: Do not pass an `input_shape`/`input_dim` argument to a layer. When using Sequential models, prefer using an `Input(shape)` object as the first layer in the model instead.\n",
            "  super().__init__(**kwargs)\n"
          ]
        },
        {
          "output_type": "stream",
          "name": "stdout",
          "text": [
            "Epoch 1/10\n",
            "\u001b[1m422/422\u001b[0m \u001b[32m━━━━━━━━━━━━━━━━━━━━\u001b[0m\u001b[37m\u001b[0m \u001b[1m3s\u001b[0m 5ms/step - accuracy: 0.8295 - loss: 0.6267 - val_accuracy: 0.9593 - val_loss: 0.1424\n",
            "Epoch 2/10\n",
            "\u001b[1m422/422\u001b[0m \u001b[32m━━━━━━━━━━━━━━━━━━━━\u001b[0m\u001b[37m\u001b[0m \u001b[1m2s\u001b[0m 5ms/step - accuracy: 0.9529 - loss: 0.1597 - val_accuracy: 0.9657 - val_loss: 0.1070\n",
            "Epoch 3/10\n",
            "\u001b[1m422/422\u001b[0m \u001b[32m━━━━━━━━━━━━━━━━━━━━\u001b[0m\u001b[37m\u001b[0m \u001b[1m2s\u001b[0m 6ms/step - accuracy: 0.9678 - loss: 0.1081 - val_accuracy: 0.9712 - val_loss: 0.0929\n",
            "Epoch 4/10\n",
            "\u001b[1m422/422\u001b[0m \u001b[32m━━━━━━━━━━━━━━━━━━━━\u001b[0m\u001b[37m\u001b[0m \u001b[1m3s\u001b[0m 7ms/step - accuracy: 0.9770 - loss: 0.0785 - val_accuracy: 0.9727 - val_loss: 0.0871\n",
            "Epoch 5/10\n",
            "\u001b[1m422/422\u001b[0m \u001b[32m━━━━━━━━━━━━━━━━━━━━\u001b[0m\u001b[37m\u001b[0m \u001b[1m2s\u001b[0m 5ms/step - accuracy: 0.9822 - loss: 0.0598 - val_accuracy: 0.9747 - val_loss: 0.0840\n",
            "Epoch 6/10\n",
            "\u001b[1m422/422\u001b[0m \u001b[32m━━━━━━━━━━━━━━━━━━━━\u001b[0m\u001b[37m\u001b[0m \u001b[1m2s\u001b[0m 5ms/step - accuracy: 0.9866 - loss: 0.0466 - val_accuracy: 0.9742 - val_loss: 0.0832\n",
            "Epoch 7/10\n",
            "\u001b[1m422/422\u001b[0m \u001b[32m━━━━━━━━━━━━━━━━━━━━\u001b[0m\u001b[37m\u001b[0m \u001b[1m3s\u001b[0m 5ms/step - accuracy: 0.9904 - loss: 0.0366 - val_accuracy: 0.9745 - val_loss: 0.0844\n",
            "Epoch 8/10\n",
            "\u001b[1m422/422\u001b[0m \u001b[32m━━━━━━━━━━━━━━━━━━━━\u001b[0m\u001b[37m\u001b[0m \u001b[1m2s\u001b[0m 6ms/step - accuracy: 0.9929 - loss: 0.0282 - val_accuracy: 0.9737 - val_loss: 0.0889\n",
            "Epoch 9/10\n",
            "\u001b[1m422/422\u001b[0m \u001b[32m━━━━━━━━━━━━━━━━━━━━\u001b[0m\u001b[37m\u001b[0m \u001b[1m3s\u001b[0m 7ms/step - accuracy: 0.9948 - loss: 0.0226 - val_accuracy: 0.9748 - val_loss: 0.0911\n",
            "Epoch 10/10\n",
            "\u001b[1m422/422\u001b[0m \u001b[32m━━━━━━━━━━━━━━━━━━━━\u001b[0m\u001b[37m\u001b[0m \u001b[1m2s\u001b[0m 5ms/step - accuracy: 0.9952 - loss: 0.0190 - val_accuracy: 0.9732 - val_loss: 0.1026\n",
            "\n",
            "Training accuracy after last epoch (10 epochs): 0.9949\n"
          ]
        }
      ]
    },
    {
      "cell_type": "code",
      "source": [
        "# Cell 6: Step 6 - Evaluate the Model\n",
        "# 18. Evaluate on test set\n",
        "test_loss, test_acc = model.evaluate(x_test_norm, y_test, verbose=2)\n",
        "\n",
        "# 19. Print test accuracy\n",
        "print(f\"\\nTest accuracy: {test_acc:.4f}\")\n",
        "\n",
        "# 20. Compare training accuracy (last logged) and test accuracy\n",
        "last_train_acc = history_10.history['accuracy'][-1]\n",
        "print(f\"Last training accuracy: {last_train_acc:.4f}\")\n",
        "if last_train_acc > test_acc:\n",
        "    print(\"Training accuracy is higher than test accuracy (possible slight overfitting).\")\n",
        "elif last_train_acc < test_acc:\n",
        "    print(\"Test accuracy is higher than training accuracy (unusual, maybe random variation).\")\n",
        "else:\n",
        "    print(\"Training and test accuracy are equal (rare).\")"
      ],
      "metadata": {
        "colab": {
          "base_uri": "https://localhost:8080/"
        },
        "id": "evp_khBcIZlH",
        "outputId": "639aea0a-cb5e-4413-a6fd-1c2b36157094"
      },
      "execution_count": null,
      "outputs": [
        {
          "output_type": "stream",
          "name": "stdout",
          "text": [
            "313/313 - 1s - 2ms/step - accuracy: 0.9690 - loss: 0.1150\n",
            "\n",
            "Test accuracy: 0.9690\n",
            "Last training accuracy: 0.9949\n",
            "Training accuracy is higher than test accuracy (possible slight overfitting).\n"
          ]
        }
      ]
    },
    {
      "cell_type": "code",
      "source": [
        "# Cell 7: Step 7 - Make Predictions\n",
        "# 21. Get predictions on x_test\n",
        "preds = model.predict(x_test_norm)   # (10000, 10) probabilities\n",
        "\n",
        "# 22. Print the raw prediction vector for the first test image\n",
        "print(\"Raw predicted probabilities for first test image (index 0):\\n\", np.round(preds[0], 4))\n",
        "\n",
        "# 23. Use argmax to find predicted digit\n",
        "pred_digit = np.argmax(preds[0])\n",
        "\n",
        "# 24. Print predicted and actual label for the first image\n",
        "print(f\"Predicted digit: {pred_digit}\")\n",
        "print(f\"Actual label   : {y_test[0]}\")\n",
        "\n",
        "# 25. Display first test image with predicted digit as title\n",
        "plt.figure(figsize=(3,3))\n",
        "plt.imshow(x_test[0], cmap='gray')\n",
        "plt.title(f\"Predicted: {pred_digit}   Actual: {y_test[0]}\")\n",
        "plt.axis('off')\n",
        "plt.show()\n"
      ],
      "metadata": {
        "colab": {
          "base_uri": "https://localhost:8080/",
          "height": 377
        },
        "id": "Y337svstIZor",
        "outputId": "1b767207-64b0-498d-bd21-8ae5555e2d78"
      },
      "execution_count": null,
      "outputs": [
        {
          "output_type": "stream",
          "name": "stdout",
          "text": [
            "\u001b[1m313/313\u001b[0m \u001b[32m━━━━━━━━━━━━━━━━━━━━\u001b[0m\u001b[37m\u001b[0m \u001b[1m1s\u001b[0m 1ms/step\n",
            "Raw predicted probabilities for first test image (index 0):\n",
            " [0.     0.     0.     0.     0.     0.     0.     0.9999 0.     0.    ]\n",
            "Predicted digit: 7\n",
            "Actual label   : 7\n"
          ]
        },
        {
          "output_type": "display_data",
          "data": {
            "text/plain": [
              "<Figure size 300x300 with 1 Axes>"
            ],
            "image/png": "[encoded data removed]"
          },
          "metadata": {}
        }
      ]
    },
    {
      "cell_type": "code",
      "source": [
        "# Cell 8: Changes & Experiments (steps 26-29)\n",
        "def make_model(activation='relu', extra_32=False):\n",
        "    layers_list = [\n",
        "        layers.Flatten(input_shape=(28,28)),\n",
        "        layers.Dense(128, activation=activation),\n",
        "        layers.Dense(64, activation=activation)\n",
        "    ]\n",
        "    if extra_32:\n",
        "        layers_list.append(layers.Dense(32, activation=activation))  # extra hidden layer (step 26)\n",
        "    layers_list.append(layers.Dense(10, activation='softmax'))\n",
        "    return models.Sequential(layers_list)\n",
        "\n",
        "# --- 26. Add one more hidden layer with 32 neurons and retrain ---\n",
        "model_extra = make_model(activation='relu', extra_32=True)\n",
        "model_extra.compile(optimizer='adam', loss='sparse_categorical_crossentropy', metrics=['accuracy'])\n",
        "hist_extra = model_extra.fit(x_train_norm, y_train, epochs=5, batch_size=128, validation_split=0.1)\n",
        "print(\"Last training acc (extra 32 layer):\", hist_extra.history['accuracy'][-1])\n",
        "\n",
        "# --- 27. Change optimizer to 'sgd' and note accuracy difference ---\n",
        "model_sgd = make_model(activation='relu', extra_32=True)  # same arch as above for fair compare\n",
        "model_sgd.compile(optimizer='sgd', loss='sparse_categorical_crossentropy', metrics=['accuracy'])\n",
        "hist_sgd = model_sgd.fit(x_train_norm, y_train, epochs=5, batch_size=128, validation_split=0.1)\n",
        "print(\"Last training acc (optimizer=sgd):\", hist_sgd.history['accuracy'][-1])\n",
        "\n",
        "# --- 28. Train the model with only 1 epoch — what happens to accuracy? ---\n",
        "model_one = make_model(activation='relu', extra_32=True)\n",
        "model_one.compile(optimizer='adam', loss='sparse_categorical_crossentropy', metrics=['accuracy'])\n",
        "hist_one = model_one.fit(x_train_norm, y_train, epochs=1, batch_size=128, validation_split=0.1)\n",
        "print(\"Training acc after 1 epoch:\", hist_one.history['accuracy'][-1])\n",
        "\n",
        "# --- 29. Change activation 'relu' -> 'tanh' and retrain ---\n",
        "model_tanh = make_model(activation='tanh', extra_32=True)\n",
        "model_tanh.compile(optimizer='adam', loss='sparse_categorical_crossentropy', metrics=['accuracy'])\n",
        "hist_tanh = model_tanh.fit(x_train_norm, y_train, epochs=5, batch_size=128, validation_split=0.1)\n",
        "print(\"Last training acc (activation=tanh):\", hist_tanh.history['accuracy'][-1])\n"
      ],
      "metadata": {
        "colab": {
          "base_uri": "https://localhost:8080/"
        },
        "id": "Tt2B7IIdJHHb",
        "outputId": "908b8ba6-7e98-495c-dca8-b38d5af91e39"
      },
      "execution_count": null,
      "outputs": [
        {
          "output_type": "stream",
          "name": "stderr",
          "text": [
            "/usr/local/lib/python3.12/dist-packages/keras/src/layers/reshaping/flatten.py:37: UserWarning: Do not pass an `input_shape`/`input_dim` argument to a layer. When using Sequential models, prefer using an `Input(shape)` object as the first layer in the model instead.\n",
            "  super().__init__(**kwargs)\n"
          ]
        },
        {
          "output_type": "stream",
          "name": "stdout",
          "text": [
            "Epoch 1/5\n",
            "\u001b[1m422/422\u001b[0m \u001b[32m━━━━━━━━━━━━━━━━━━━━\u001b[0m\u001b[37m\u001b[0m \u001b[1m4s\u001b[0m 6ms/step - accuracy: 0.7922 - loss: 0.7295 - val_accuracy: 0.9583 - val_loss: 0.1371\n",
            "Epoch 2/5\n",
            "\u001b[1m422/422\u001b[0m \u001b[32m━━━━━━━━━━━━━━━━━━━━\u001b[0m\u001b[37m\u001b[0m \u001b[1m2s\u001b[0m 5ms/step - accuracy: 0.9539 - loss: 0.1543 - val_accuracy: 0.9663 - val_loss: 0.1071\n",
            "Epoch 3/5\n",
            "\u001b[1m422/422\u001b[0m \u001b[32m━━━━━━━━━━━━━━━━━━━━\u001b[0m\u001b[37m\u001b[0m \u001b[1m2s\u001b[0m 5ms/step - accuracy: 0.9695 - loss: 0.1011 - val_accuracy: 0.9730 - val_loss: 0.0928\n",
            "Epoch 4/5\n",
            "\u001b[1m422/422\u001b[0m \u001b[32m━━━━━━━━━━━━━━━━━━━━\u001b[0m\u001b[37m\u001b[0m \u001b[1m2s\u001b[0m 5ms/step - accuracy: 0.9776 - loss: 0.0746 - val_accuracy: 0.9763 - val_loss: 0.0868\n",
            "Epoch 5/5\n",
            "\u001b[1m422/422\u001b[0m \u001b[32m━━━━━━━━━━━━━━━━━━━━\u001b[0m\u001b[37m\u001b[0m \u001b[1m4s\u001b[0m 8ms/step - accuracy: 0.9827 - loss: 0.0578 - val_accuracy: 0.9748 - val_loss: 0.0886\n",
            "Last training acc (extra 32 layer): 0.9831851720809937\n",
            "Epoch 1/5\n",
            "\u001b[1m422/422\u001b[0m \u001b[32m━━━━━━━━━━━━━━━━━━━━\u001b[0m\u001b[37m\u001b[0m \u001b[1m2s\u001b[0m 5ms/step - accuracy: 0.3577 - loss: 2.0216 - val_accuracy: 0.8122 - val_loss: 0.8574\n",
            "Epoch 2/5\n",
            "\u001b[1m422/422\u001b[0m \u001b[32m━━━━━━━━━━━━━━━━━━━━\u001b[0m\u001b[37m\u001b[0m \u001b[1m2s\u001b[0m 4ms/step - accuracy: 0.8102 - loss: 0.7562 - val_accuracy: 0.8963 - val_loss: 0.4023\n",
            "Epoch 3/5\n",
            "\u001b[1m422/422\u001b[0m \u001b[32m━━━━━━━━━━━━━━━━━━━━\u001b[0m\u001b[37m\u001b[0m \u001b[1m2s\u001b[0m 4ms/step - accuracy: 0.8703 - loss: 0.4560 - val_accuracy: 0.9110 - val_loss: 0.3125\n",
            "Epoch 4/5\n",
            "\u001b[1m422/422\u001b[0m \u001b[32m━━━━━━━━━━━━━━━━━━━━\u001b[0m\u001b[37m\u001b[0m \u001b[1m2s\u001b[0m 4ms/step - accuracy: 0.8922 - loss: 0.3735 - val_accuracy: 0.9225 - val_loss: 0.2730\n",
            "Epoch 5/5\n",
            "\u001b[1m422/422\u001b[0m \u001b[32m━━━━━━━━━━━━━━━━━━━━\u001b[0m\u001b[37m\u001b[0m \u001b[1m2s\u001b[0m 4ms/step - accuracy: 0.9030 - loss: 0.3296 - val_accuracy: 0.9283 - val_loss: 0.2479\n",
            "Last training acc (optimizer=sgd): 0.9077592492103577\n",
            "\u001b[1m422/422\u001b[0m \u001b[32m━━━━━━━━━━━━━━━━━━━━\u001b[0m\u001b[37m\u001b[0m \u001b[1m4s\u001b[0m 6ms/step - accuracy: 0.8044 - loss: 0.6821 - val_accuracy: 0.9593 - val_loss: 0.1444\n",
            "Training acc after 1 epoch: 0.8944629430770874\n",
            "Epoch 1/5\n",
            "\u001b[1m422/422\u001b[0m \u001b[32m━━━━━━━━━━━━━━━━━━━━\u001b[0m\u001b[37m\u001b[0m \u001b[1m4s\u001b[0m 6ms/step - accuracy: 0.8264 - loss: 0.6708 - val_accuracy: 0.9565 - val_loss: 0.1631\n",
            "Epoch 2/5\n",
            "\u001b[1m422/422\u001b[0m \u001b[32m━━━━━━━━━━━━━━━━━━━━\u001b[0m\u001b[37m\u001b[0m \u001b[1m2s\u001b[0m 5ms/step - accuracy: 0.9449 - loss: 0.1904 - val_accuracy: 0.9653 - val_loss: 0.1176\n",
            "Epoch 3/5\n",
            "\u001b[1m422/422\u001b[0m \u001b[32m━━━━━━━━━━━━━━━━━━━━\u001b[0m\u001b[37m\u001b[0m \u001b[1m2s\u001b[0m 5ms/step - accuracy: 0.9632 - loss: 0.1279 - val_accuracy: 0.9692 - val_loss: 0.1045\n",
            "Epoch 4/5\n",
            "\u001b[1m422/422\u001b[0m \u001b[32m━━━━━━━━━━━━━━━━━━━━\u001b[0m\u001b[37m\u001b[0m \u001b[1m3s\u001b[0m 8ms/step - accuracy: 0.9725 - loss: 0.0943 - val_accuracy: 0.9707 - val_loss: 0.0996\n",
            "Epoch 5/5\n",
            "\u001b[1m422/422\u001b[0m \u001b[32m━━━━━━━━━━━━━━━━━━━━\u001b[0m\u001b[37m\u001b[0m \u001b[1m2s\u001b[0m 5ms/step - accuracy: 0.9803 - loss: 0.0711 - val_accuracy: 0.9702 - val_loss: 0.0965\n",
            "Last training acc (activation=tanh): 0.9810740947723389\n"
          ]
        }
      ]
    },
    {
      "cell_type": "code",
      "source": [
        "# Cell 9: Step 30 - Plot training accuracy vs epoch for any history object\n",
        "# Example: plot the 5-epoch history from the original model (history_5) and continued to 10 (history_10_continued)\n",
        "# We'll plot the combined 'history_10_continued' if available; otherwise plot history_5\n",
        "\n",
        "# If you used continued training above:\n",
        "# acc = history_10_continued['accuracy']\n",
        "# val_acc = history_10_continued['val_accuracy']\n",
        "\n",
        "# Use the history from the 10-epoch fresh training\n",
        "acc = history_10.history['accuracy']\n",
        "val_acc = history_10.history['val_accuracy']\n",
        "\n",
        "\n",
        "plt.figure(figsize=(6,4))\n",
        "plt.plot(range(1, len(acc)+1), acc, label='train accuracy')\n",
        "plt.plot(range(1, len(val_acc)+1), val_acc, label='val accuracy')\n",
        "plt.xlabel('Epoch')\n",
        "plt.ylabel('Accuracy')\n",
        "plt.title('Training vs Validation Accuracy')\n",
        "plt.legend()\n",
        "plt.grid(True)\n",
        "plt.show()\n",
        "\n",
        "# You can also plot other experiment histories similarly, e.g.:\n",
        "# plt.plot(hist_extra.history['accuracy'], label='extra_32_train')\n",
        "# plt.plot(hist_sgd.history['accuracy'], label='sgd_train')\n",
        "# plt.legend()"
      ],
      "metadata": {
        "colab": {
          "base_uri": "https://localhost:8080/",
          "height": 410
        },
        "id": "XlRs3eHdJHJd",
        "outputId": "02b1b83d-6e74-4be1-d837-0f375c85db4c"
      },
      "execution_count": null,
      "outputs": [
        {
          "output_type": "display_data",
          "data": {
            "text/plain": [
              "<Figure size 600x400 with 1 Axes>"
            ],
            "image/png": "[encoded data removed]"
          },
          "metadata": {}
        }
      ]
    }
  ]
}